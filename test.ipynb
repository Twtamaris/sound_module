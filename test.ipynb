{
 "cells": [
  {
   "cell_type": "code",
   "execution_count": 2,
   "metadata": {},
   "outputs": [],
   "source": [
    "import pyaudio\n",
    "import numpy as np\n",
    "import librosa\n",
    "import tensorflow as tf"
   ]
  },
  {
   "cell_type": "code",
   "execution_count": 3,
   "metadata": {},
   "outputs": [],
   "source": [
    "loaded_model = tf.keras.models.load_model('sound_detection_module.h5')"
   ]
  },
  {
   "cell_type": "code",
   "execution_count": 4,
   "metadata": {},
   "outputs": [],
   "source": [
    "# Function to extract MFCC features from audio\n",
    "def extract_features(audio):\n",
    "    # Normalize audio data to floating-point values between -1 and 1\n",
    "    audio_norm = audio.astype(np.float32) / 32768.0  # Assuming audio is in np.int16 format\n",
    "    mfccs = librosa.feature.mfcc(y=audio_norm, sr=22050, n_mfcc=13)\n",
    "    return mfccs.T"
   ]
  },
  {
   "cell_type": "code",
   "execution_count": 20,
   "metadata": {},
   "outputs": [],
   "source": [
    "FORMAT = pyaudio.paInt16  # Audio format (16-bit PCM)\n",
    "CHANNELS = 1  # Number of audio channels\n",
    "RATE = 22050  # Sampling rate\n",
    "CHUNK = int(0.1 * RATE)  # Chunk size (0.1 second)"
   ]
  },
  {
   "cell_type": "code",
   "execution_count": 21,
   "metadata": {},
   "outputs": [],
   "source": [
    "audio = pyaudio.PyAudio()\n",
    "stream = audio.open(format=FORMAT, channels=CHANNELS, rate=RATE, input=True,\n",
    "                    frames_per_buffer=CHUNK)"
   ]
  },
  {
   "cell_type": "code",
   "execution_count": 22,
   "metadata": {},
   "outputs": [
    {
     "data": {
      "text/plain": [
       "array([ -22,  -76, -118, ...,    3,    1,    4], dtype=int16)"
      ]
     },
     "execution_count": 22,
     "metadata": {},
     "output_type": "execute_result"
    }
   ],
   "source": [
    "audio_data = stream.read(CHUNK)\n",
    "\n",
    "# Convert audio data to numpy array\n",
    "audio_array = np.frombuffer(audio_data, dtype=np.int16)\n",
    "audio_array"
   ]
  },
  {
   "cell_type": "code",
   "execution_count": 23,
   "metadata": {},
   "outputs": [],
   "source": [
    "# this is the code to play the audio_array\n",
    "# import sounddevice as sd\n",
    "# import numpy as np\n",
    "\n",
    "\n",
    "# # Play the audio\n",
    "# sd.play(audio_array, samplerate=22050)\n",
    "# sd.wait()  # Wait until the audio is done playing\n"
   ]
  }
 ],
 "metadata": {
  "kernelspec": {
   "display_name": "Python 3",
   "language": "python",
   "name": "python3"
  },
  "language_info": {
   "codemirror_mode": {
    "name": "ipython",
    "version": 3
   },
   "file_extension": ".py",
   "mimetype": "text/x-python",
   "name": "python",
   "nbconvert_exporter": "python",
   "pygments_lexer": "ipython3",
   "version": "3.9.5"
  }
 },
 "nbformat": 4,
 "nbformat_minor": 2
}
